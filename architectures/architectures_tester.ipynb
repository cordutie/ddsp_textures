{
 "cells": [
  {
   "cell_type": "code",
   "execution_count": 13,
   "metadata": {},
   "outputs": [],
   "source": [
    "import sys\n",
    "import os\n",
    "\n",
    "# Add the parent directory to the Python path\n",
    "parent_dir = os.path.abspath('../..')\n",
    "if parent_dir not in sys.path:\n",
    "    sys.path.append(parent_dir)\n",
    "\n",
    "# import modules\n",
    "import ddsp_textures.architectures.DDSP\n",
    "import ddsp_textures.auxiliar.seeds\n",
    "import ddsp_textures.auxiliar.features\n",
    "import ddsp_textures.dataset.makers\n",
    "\n",
    "# Extra packages\n",
    "import matplotlib.pyplot as plt\n",
    "from IPython.display import Audio\n",
    "\n",
    "# Parameters counter\n",
    "def count_parameters(model):\n",
    "    return sum(p.numel() for p in model.parameters())"
   ]
  },
  {
   "cell_type": "code",
   "execution_count": 14,
   "metadata": {},
   "outputs": [
    {
     "name": "stdout",
     "output_type": "stream",
     "text": [
      "number of paramenters:  5735680\n"
     ]
    }
   ],
   "source": [
    "N_filter_bank = 24\n",
    "input_sizes = [24, 3]\n",
    "enc_hidden_size, dec_hidden_size = 256, 256\n",
    "enc_deepness, dec_deepness       = 3, 3\n",
    "param_per_env = 1024\n",
    "sampling_rate = 44100\n",
    "frame_size    = 2**16\n",
    "N_filter_bank = 8\n",
    "time          = frame_size/sampling_rate\n",
    "\n",
    "seed       = ddsp_textures.auxiliar.seeds.seed_maker(frame_size, sampling_rate, N_filter_bank)\n",
    "model_fire = ddsp_textures.architectures.DDSP.DDSP_SubEnv_opt(input_sizes, enc_hidden_size, dec_hidden_size, enc_deepness, dec_deepness, param_per_env, frame_size, N_filter_bank)\n",
    "\n",
    "# print the amount of parameters of the torch model\n",
    "print(\"number of paramenters: \",count_parameters(model_fire))\n",
    "# print(\"number of paramenters per second: \",int(count_parameters(model_fire) / time))"
   ]
  },
  {
   "cell_type": "code",
   "execution_count": 15,
   "metadata": {},
   "outputs": [
    {
     "name": "stdout",
     "output_type": "stream",
     "text": [
      "Audio loaded from  ../sounds/fire.wav\n",
      "Final dataset size will be:  106\n",
      "Computing dataset\n",
      "...\n",
      "Dataset computed!\n",
      "Dataset loaded into dataloader\n"
     ]
    }
   ],
   "source": [
    "# Trying forward pass on the dataset\n",
    "\n",
    "from torch.utils.data import DataLoader\n",
    "\n",
    "# Fire dataset creation\n",
    "# Dataset parameters\n",
    "audio_path    = \"..\"+\"/sounds/fire.wav\"\n",
    "frame_size    = frame_size # = 2**16 is around 1.5 seconds\n",
    "hop_size      = 2**15      # samples are 50% overlapped\n",
    "sampling_rate = sampling_rate\n",
    "features_annotator = ddsp_textures.auxiliar.features.features_freqavg_rate # for fire, the features will be sp centroid and rate\n",
    "freq_avg_level = 4         # The spectral centroid will et more informative by pushing it a little\n",
    "\n",
    "# Dataset creation\n",
    "dataset_raw  = ddsp_textures.dataset.makers.DDSP_Dataset(audio_path, frame_size, hop_size, sampling_rate, features_annotator, freq_avg_level)\n",
    "dataset_fire = dataset_raw.compute_dataset()\n",
    "\n",
    "# Dataloader\n",
    "batch_size = 12\n",
    "dataloader = DataLoader(dataset_fire, batch_size=batch_size, shuffle=True)\n",
    "print(\"Dataset loaded into dataloader\")\n"
   ]
  },
  {
   "cell_type": "code",
   "execution_count": 16,
   "metadata": {},
   "outputs": [
    {
     "ename": "TypeError",
     "evalue": "DDSP_SubEnv_opt.forward() takes 2 positional arguments but 3 were given",
     "output_type": "error",
     "traceback": [
      "\u001b[0;31m---------------------------------------------------------------------------\u001b[0m",
      "\u001b[0;31mTypeError\u001b[0m                                 Traceback (most recent call last)",
      "Cell \u001b[0;32mIn[16], line 8\u001b[0m\n\u001b[1;32m      6\u001b[0m feature_0 \u001b[38;5;241m=\u001b[39m features[\u001b[38;5;241m0\u001b[39m]\u001b[38;5;241m.\u001b[39munsqueeze(\u001b[38;5;241m1\u001b[39m)\n\u001b[1;32m      7\u001b[0m feature_1 \u001b[38;5;241m=\u001b[39m features[\u001b[38;5;241m1\u001b[39m]\u001b[38;5;241m.\u001b[39munsqueeze(\u001b[38;5;241m1\u001b[39m)\n\u001b[0;32m----> 8\u001b[0m output_batch \u001b[38;5;241m=\u001b[39m \u001b[43mmodel_fire\u001b[49m\u001b[43m(\u001b[49m\u001b[43mfeature_0\u001b[49m\u001b[43m,\u001b[49m\u001b[43m \u001b[49m\u001b[43mfeature_1\u001b[49m\u001b[43m)\u001b[49m\n\u001b[1;32m      9\u001b[0m \u001b[38;5;66;03m# create random number from 0 to batch_size\u001b[39;00m\n\u001b[1;32m     10\u001b[0m random_index \u001b[38;5;241m=\u001b[39m np\u001b[38;5;241m.\u001b[39mrandom\u001b[38;5;241m.\u001b[39mrandint(\u001b[38;5;241m0\u001b[39m, batch_size)\n",
      "File \u001b[0;32m~/.local/lib/python3.10/site-packages/torch/nn/modules/module.py:1532\u001b[0m, in \u001b[0;36mModule._wrapped_call_impl\u001b[0;34m(self, *args, **kwargs)\u001b[0m\n\u001b[1;32m   1530\u001b[0m     \u001b[38;5;28;01mreturn\u001b[39;00m \u001b[38;5;28mself\u001b[39m\u001b[38;5;241m.\u001b[39m_compiled_call_impl(\u001b[38;5;241m*\u001b[39margs, \u001b[38;5;241m*\u001b[39m\u001b[38;5;241m*\u001b[39mkwargs)  \u001b[38;5;66;03m# type: ignore[misc]\u001b[39;00m\n\u001b[1;32m   1531\u001b[0m \u001b[38;5;28;01melse\u001b[39;00m:\n\u001b[0;32m-> 1532\u001b[0m     \u001b[38;5;28;01mreturn\u001b[39;00m \u001b[38;5;28;43mself\u001b[39;49m\u001b[38;5;241;43m.\u001b[39;49m\u001b[43m_call_impl\u001b[49m\u001b[43m(\u001b[49m\u001b[38;5;241;43m*\u001b[39;49m\u001b[43margs\u001b[49m\u001b[43m,\u001b[49m\u001b[43m \u001b[49m\u001b[38;5;241;43m*\u001b[39;49m\u001b[38;5;241;43m*\u001b[39;49m\u001b[43mkwargs\u001b[49m\u001b[43m)\u001b[49m\n",
      "File \u001b[0;32m~/.local/lib/python3.10/site-packages/torch/nn/modules/module.py:1541\u001b[0m, in \u001b[0;36mModule._call_impl\u001b[0;34m(self, *args, **kwargs)\u001b[0m\n\u001b[1;32m   1536\u001b[0m \u001b[38;5;66;03m# If we don't have any hooks, we want to skip the rest of the logic in\u001b[39;00m\n\u001b[1;32m   1537\u001b[0m \u001b[38;5;66;03m# this function, and just call forward.\u001b[39;00m\n\u001b[1;32m   1538\u001b[0m \u001b[38;5;28;01mif\u001b[39;00m \u001b[38;5;129;01mnot\u001b[39;00m (\u001b[38;5;28mself\u001b[39m\u001b[38;5;241m.\u001b[39m_backward_hooks \u001b[38;5;129;01mor\u001b[39;00m \u001b[38;5;28mself\u001b[39m\u001b[38;5;241m.\u001b[39m_backward_pre_hooks \u001b[38;5;129;01mor\u001b[39;00m \u001b[38;5;28mself\u001b[39m\u001b[38;5;241m.\u001b[39m_forward_hooks \u001b[38;5;129;01mor\u001b[39;00m \u001b[38;5;28mself\u001b[39m\u001b[38;5;241m.\u001b[39m_forward_pre_hooks\n\u001b[1;32m   1539\u001b[0m         \u001b[38;5;129;01mor\u001b[39;00m _global_backward_pre_hooks \u001b[38;5;129;01mor\u001b[39;00m _global_backward_hooks\n\u001b[1;32m   1540\u001b[0m         \u001b[38;5;129;01mor\u001b[39;00m _global_forward_hooks \u001b[38;5;129;01mor\u001b[39;00m _global_forward_pre_hooks):\n\u001b[0;32m-> 1541\u001b[0m     \u001b[38;5;28;01mreturn\u001b[39;00m \u001b[43mforward_call\u001b[49m\u001b[43m(\u001b[49m\u001b[38;5;241;43m*\u001b[39;49m\u001b[43margs\u001b[49m\u001b[43m,\u001b[49m\u001b[43m \u001b[49m\u001b[38;5;241;43m*\u001b[39;49m\u001b[38;5;241;43m*\u001b[39;49m\u001b[43mkwargs\u001b[49m\u001b[43m)\u001b[49m\n\u001b[1;32m   1543\u001b[0m \u001b[38;5;28;01mtry\u001b[39;00m:\n\u001b[1;32m   1544\u001b[0m     result \u001b[38;5;241m=\u001b[39m \u001b[38;5;28;01mNone\u001b[39;00m\n",
      "\u001b[0;31mTypeError\u001b[0m: DDSP_SubEnv_opt.forward() takes 2 positional arguments but 3 were given"
     ]
    }
   ],
   "source": [
    "# import numpy as np\n",
    "\n",
    "# # run forward pass of the model called model_fire in the dataloader\n",
    "# for batch in dataloader:\n",
    "#     features, segments = batch\n",
    "#     feature_0 = features[0].unsqueeze(1)\n",
    "#     feature_1 = features[1].unsqueeze(1)\n",
    "#     output_batch = model_fire(feature_0, feature_1)\n",
    "#     # create random number from 0 to batch_size\n",
    "#     random_index = np.random.randint(0, batch_size)\n",
    "#     # take the random index from the batch and transofmr to numpy\n",
    "#     output = output_batch[random_index,:].detach().numpy()\n",
    "#     # plot and play the output\n",
    "#     plt.plot(output)\n",
    "#     plt.show()\n",
    "#     display(Audio(output, rate=sampling_rate))\n",
    "    "
   ]
  }
 ],
 "metadata": {
  "kernelspec": {
   "display_name": "Python 3",
   "language": "python",
   "name": "python3"
  },
  "language_info": {
   "codemirror_mode": {
    "name": "ipython",
    "version": 3
   },
   "file_extension": ".py",
   "mimetype": "text/x-python",
   "name": "python",
   "nbconvert_exporter": "python",
   "pygments_lexer": "ipython3",
   "version": "3.10.12"
  }
 },
 "nbformat": 4,
 "nbformat_minor": 2
}
