{
 "cells": [
  {
   "cell_type": "code",
   "execution_count": 1,
   "metadata": {},
   "outputs": [],
   "source": [
    "import sys\n",
    "import os\n",
    "\n",
    "# Add the parent directory to the Python path\n",
    "parent_dir = os.path.abspath('../..')\n",
    "if parent_dir not in sys.path:\n",
    "    sys.path.append(parent_dir)\n",
    "    \n",
    "# import modules\n",
    "import ddsp_textures.dataset.makers\n",
    "import ddsp_textures.auxiliar.features\n",
    "\n",
    "# Extra packages\n",
    "import random\n",
    "import matplotlib.pyplot as plt\n",
    "from IPython.display import Audio\n",
    "\n",
    "# For dataset visualization\n",
    "def random_viewer(dataset_sounds):\n",
    "    size = len(dataset_sounds)\n",
    "    file_number = random.randint(0, size-1)\n",
    "    features = dataset_sounds[file_number][0]\n",
    "    audio    = dataset_sounds[file_number][1].detach().cpu().numpy()\n",
    "    plt.plot(audio)\n",
    "    title = \"feature 0: \"+ str(features[0].detach().cpu().numpy())\n",
    "    plt.title(title)\n",
    "    plt.show()\n",
    "    display(Audio(data=audio, rate=44100))"
   ]
  },
  {
   "cell_type": "code",
   "execution_count": 2,
   "metadata": {},
   "outputs": [
    {
     "name": "stdout",
     "output_type": "stream",
     "text": [
      "Audio loaded from  ../sounds/fire_sounds\n",
      "Segments extracted!\n",
      "Number of segments:  106\n",
      "Dataset computed!\n",
      "Dataset created with  106  segments\n",
      "Example of an element of the dataset:\n",
      "[tensor([-0.0032, -0.0032, -0.0027,  ..., -0.2776, -0.2997, -0.3020]), tensor([1.8265e+02, 8.6136e+01, 6.3320e+01, 3.9747e+01, 1.8091e+01, 7.6841e+00,\n",
      "        2.6337e+00, 9.1614e+00, 1.3860e+01, 8.0863e+00, 1.0811e+01, 2.2499e+01,\n",
      "        2.6003e+01, 1.5420e+01, 1.8092e+01, 1.5955e+01, 8.5298e+00, 7.5192e+00,\n",
      "        1.0451e+01, 5.0972e+00, 7.4703e+00, 7.4172e+00, 8.1261e+00, 6.6661e+00,\n",
      "        8.2293e+00, 7.2452e+00, 8.9013e+00, 1.2345e+01, 1.4690e+01, 1.2995e+01,\n",
      "        3.4151e+00, 1.6314e-01]), tensor(2095.9150)]\n",
      "<class 'list'>\n",
      "torch.Size([65536])\n",
      "torch.Size([32])\n",
      "torch.Size([])\n",
      "Batch features/segments number:  3\n",
      "torch.Size([32, 65536])\n",
      "torch.Size([32, 32])\n",
      "torch.Size([32])\n"
     ]
    }
   ],
   "source": [
    "# Fire dataset creation\n",
    "\n",
    "# Dataset parameters\n",
    "audio_folder_path = \"..\"+\"/sounds/fire_sounds\"\n",
    "frame_size        = 2**16 # 2**16 is around 1.5 seconds\n",
    "hop_size          = 2**15 # samples are 50% overlapped\n",
    "sampling_rate     = 44100\n",
    "\n",
    "from ddsp_textures.auxiliar.features import *\n",
    "# features_annotator = [features_freqavg, features_freqavg_freqstd, features_rate, features_energy_bands] # for fire, the features will be sp centroid and rate\n",
    "features_annotator = [features_energy_bands, features_freqavg] # for fire, the features will be sp centroid and rate\n",
    "freq_avg_level = 4    # The spectral centroid will et more informative by pushing it a little\n",
    "N_filter_bank = 32    # Number of filters in the filter bank\n",
    "\n",
    "# Dataset creation\n",
    "dataset_raw  = ddsp_textures.dataset.makers.DDSP_Dataset(audio_folder_path, frame_size, hop_size, sampling_rate, N_filter_bank, features_annotator)\n",
    "dataset_fire = dataset_raw.compute_dataset()\n",
    "\n",
    "print(\"Dataset created with \", len(dataset_fire), \" segments\")\n",
    "\n",
    "print(\"Example of an element of the dataset:\")\n",
    "print(dataset_fire[0])\n",
    "print(type(dataset_fire[0]))\n",
    "for i in range(len(dataset_fire[0])):\n",
    "    print(dataset_fire[0][i].size())\n",
    "\n",
    "import torch\n",
    "from torch.utils.data import DataLoader\n",
    "\n",
    "# Load dataset to torch object\n",
    "dataloader = DataLoader(dataset_fire, batch_size=32, shuffle=True)\n",
    "\n",
    "# Check the batch size\n",
    "for batch in dataloader:\n",
    "    len_batch = len(batch)\n",
    "    print(\"Batch features/segments number: \", len_batch)\n",
    "    for i in range(len_batch):\n",
    "        print(batch[i].shape)\n",
    "    break"
   ]
  },
  {
   "cell_type": "code",
   "execution_count": 3,
   "metadata": {},
   "outputs": [],
   "source": [
    "# energy_bands_30 = dataset_fire[30][5]\n",
    "# print(\"Energy bands:\\n\", energy_bands_30)\n",
    "# segment_30 = dataset_fire[30][0]"
   ]
  },
  {
   "cell_type": "code",
   "execution_count": 4,
   "metadata": {},
   "outputs": [],
   "source": [
    "# # Import modules\n",
    "# import ddsp_textures.signal_processors.synthesizers\n",
    "\n",
    "# # Import extra packages\n",
    "# import numpy as np\n",
    "# import librosa\n",
    "# import matplotlib.pyplot as plt\n",
    "# from IPython.display import Audio\n",
    "# import torch\n",
    "\n",
    "\n",
    "# print(\"std of the segment: \", torch.std(segment_30))\n",
    "# print(\"norm of the segment: \", torch.norm(segment_30))\n",
    "\n",
    "# # compute 128 real and imag param \n",
    "# param_real, param_imag = ddsp_textures.signal_processors.synthesizers.TexEnv_param_extractor(segment_30, sampling_rate, N_filter_bank, 128)\n",
    "\n",
    "# amplitudes = np.sqrt(param_real**2 + param_imag**2)\n",
    "\n",
    "# for i in range(128):\n",
    "#     print(\"Amplitude of the \"+str(i)+\"-th filter: \", amplitudes[i])"
   ]
  }
 ],
 "metadata": {
  "kernelspec": {
   "display_name": "env_ddsp_textures",
   "language": "python",
   "name": "python3"
  },
  "language_info": {
   "codemirror_mode": {
    "name": "ipython",
    "version": 3
   },
   "file_extension": ".py",
   "mimetype": "text/x-python",
   "name": "python",
   "nbconvert_exporter": "python",
   "pygments_lexer": "ipython3",
   "version": "3.12.3"
  }
 },
 "nbformat": 4,
 "nbformat_minor": 2
}
