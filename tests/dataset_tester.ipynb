{
 "cells": [
  {
   "cell_type": "code",
   "execution_count": 1,
   "metadata": {},
   "outputs": [],
   "source": [
    "import sys\n",
    "import os\n",
    "\n",
    "# Add the parent directory to the Python path\n",
    "parent_dir = os.path.abspath('../..')\n",
    "if parent_dir not in sys.path:\n",
    "    sys.path.append(parent_dir)\n",
    "    \n",
    "# import modules\n",
    "import ddsp_textures.dataset.makers\n",
    "import ddsp_textures.auxiliar.features\n",
    "\n",
    "# Extra packages\n",
    "import random\n",
    "import matplotlib.pyplot as plt\n",
    "from IPython.display import Audio\n",
    "\n",
    "# For dataset visualization\n",
    "def random_viewer(dataset_sounds):\n",
    "    size = len(dataset_sounds)\n",
    "    file_number = random.randint(0, size-1)\n",
    "    features = dataset_sounds[file_number][0]\n",
    "    audio    = dataset_sounds[file_number][1].detach().cpu().numpy()\n",
    "    plt.plot(audio)\n",
    "    title = \"feature 0: \"+ str(features[0].detach().cpu().numpy())\n",
    "    plt.title(title)\n",
    "    plt.show()\n",
    "    display(Audio(data=audio, rate=44100))"
   ]
  },
  {
   "cell_type": "code",
   "execution_count": 8,
   "metadata": {},
   "outputs": [
    {
     "name": "stdout",
     "output_type": "stream",
     "text": [
      "Audio loaded from  ../sounds/mini_dataset_example\n",
      "Computing dataset\n",
      "...\n",
      "Dataset computed!\n"
     ]
    }
   ],
   "source": [
    "# Fire dataset creation\n",
    "\n",
    "# Dataset parameters\n",
    "audio_folder_path = \"..\"+\"/sounds/mini_dataset_example\"\n",
    "frame_size        = 2**16 # 2**16 is around 1.5 seconds\n",
    "hop_size          = 2**15 # samples are 50% overlapped\n",
    "sampling_rate     = 22050\n",
    "\n",
    "from ddsp_textures.auxiliar.features import *\n",
    "features_annotator = [features_freqavg, features_freqavg_freqstd, features_rate, features_energy_bands, features_envelopes_stems] # for fire, the features will be sp centroid and rate\n",
    "freq_avg_level = 4    # The spectral centroid will et more informative by pushing it a little\n",
    "N_filter_bank = 32    # Number of filters in the filter bank\n",
    "\n",
    "# Dataset creation\n",
    "dataset_raw  = ddsp_textures.dataset.makers.DDSP_Dataset(audio_folder_path, frame_size, hop_size, sampling_rate, N_filter_bank, features_annotator)\n",
    "dataset_fire = dataset_raw.compute_dataset()\n",
    "\n",
    "# # Visualize M dataset samples\n",
    "# M = 2\n",
    "# print(\"\\nVisualizing \"+str(M)+\" samples of the dataset\")\n",
    "# for i in range(M):\n",
    "#     random_viewer(dataset_fire)"
   ]
  },
  {
   "cell_type": "code",
   "execution_count": 9,
   "metadata": {},
   "outputs": [
    {
     "name": "stdout",
     "output_type": "stream",
     "text": [
      "6\n",
      "torch.Size([5, 65536])\n",
      "torch.Size([5])\n",
      "torch.Size([5, 2])\n",
      "torch.Size([5])\n",
      "torch.Size([5, 32])\n",
      "torch.Size([5, 32, 65536])\n"
     ]
    }
   ],
   "source": [
    "import torch\n",
    "from torch.utils.data import DataLoader\n",
    "\n",
    "# Load dataset to torch object\n",
    "dataloader = DataLoader(dataset_fire, batch_size=5, shuffle=True)\n",
    "for batch in dataloader:\n",
    "    len_batch = len(batch)\n",
    "    print(len_batch)\n",
    "    for i in range(len_batch):\n",
    "        print(batch[i].shape)\n",
    "    break"
   ]
  }
 ],
 "metadata": {
  "kernelspec": {
   "display_name": "Python 3",
   "language": "python",
   "name": "python3"
  },
  "language_info": {
   "codemirror_mode": {
    "name": "ipython",
    "version": 3
   },
   "file_extension": ".py",
   "mimetype": "text/x-python",
   "name": "python",
   "nbconvert_exporter": "python",
   "pygments_lexer": "ipython3",
   "version": "3.10.12"
  }
 },
 "nbformat": 4,
 "nbformat_minor": 2
}
