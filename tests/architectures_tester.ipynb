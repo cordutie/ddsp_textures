{
 "cells": [
  {
   "cell_type": "markdown",
   "metadata": {},
   "source": [
    "### **Import the library and some auxiliar stuff**"
   ]
  },
  {
   "cell_type": "code",
   "execution_count": 1,
   "metadata": {},
   "outputs": [],
   "source": [
    "import sys\n",
    "import os\n",
    "\n",
    "# Add the parent directory to the Python path\n",
    "parent_dir = os.path.abspath('../..')\n",
    "if parent_dir not in sys.path:\n",
    "    sys.path.append(parent_dir)\n",
    "\n",
    "# import modules\n",
    "import ddsp_textures.architectures.DDSP\n",
    "import ddsp_textures.auxiliar.seeds\n",
    "import ddsp_textures.auxiliar.features\n",
    "import ddsp_textures.dataset.makers\n",
    "\n",
    "# Extra packages\n",
    "import matplotlib.pyplot as plt\n",
    "from IPython.display import Audio\n",
    "\n",
    "# Parameters counter\n",
    "def count_parameters(model):\n",
    "    return sum(p.numel() for p in model.parameters())"
   ]
  },
  {
   "cell_type": "markdown",
   "metadata": {},
   "source": [
    "### **Model creation**"
   ]
  },
  {
   "cell_type": "code",
   "execution_count": 2,
   "metadata": {},
   "outputs": [
    {
     "name": "stdout",
     "output_type": "stream",
     "text": [
      "number of paramenters:  5735680\n"
     ]
    }
   ],
   "source": [
    "N_filter_bank = 24\n",
    "input_sizes   = [24, 3]\n",
    "enc_hidden_size, dec_hidden_size = 256, 256\n",
    "enc_deepness,    dec_deepness    =   3,   3\n",
    "param_per_env = 1024\n",
    "sampling_rate = 44100\n",
    "frame_size    = 2**16\n",
    "N_filter_bank = 8\n",
    "stems         = True\n",
    "\n",
    "model_fire = ddsp_textures.architectures.DDSP.DDSP_SubEnv(input_sizes, enc_hidden_size, dec_hidden_size, enc_deepness, dec_deepness, param_per_env, frame_size, N_filter_bank, stems)\n",
    "\n",
    "# print the amount of parameters of the torch model\n",
    "print(\"number of paramenters: \",count_parameters(model_fire))\n",
    "# print(\"number of paramenters per second: \",int(count_parameters(model_fire) / time))"
   ]
  },
  {
   "cell_type": "code",
   "execution_count": 3,
   "metadata": {},
   "outputs": [],
   "source": [
    "# # Trying forward pass on the dataset\n",
    "# from torch.utils.data import DataLoader\n",
    "\n",
    "# # Fire dataset creation\n",
    "# # Dataset parameters\n",
    "# audio_folder_path  = \"../sounds/mini_dataset_example\"\n",
    "\n",
    "# frame_size         = 2**16 # = 2**16 is around 1.5 seconds\n",
    "# hop_size           = 2**15      # samples are 50% overlapped\n",
    "# sampling_rate      = sampling_rate\n",
    "# from ddsp_textures.auxiliar.features import *\n",
    "# features_annotator = [features_freqavg, features_freqavg_freqstd, features_rate, features_energy_bands] # In general you will need a sublist of these\n",
    "\n",
    "# # Dataset creation\n",
    "# dataset_raw  = ddsp_textures.dataset.makers.DDSP_Dataset(audio_folder_path, frame_size, hop_size, sampling_rate, N_filter_bank, features_annotator)\n",
    "# dataset_fire = dataset_raw.compute_dataset()\n",
    "\n",
    "# # Up to this point the dataset is a list of lists. Each sublist represent one segment and it is build like this [segment, feature_1, feature_2, etc]\n",
    "\n",
    "# # Dataloader\n",
    "# batch_size = 12\n",
    "# dataloader = DataLoader(dataset_fire, batch_size=batch_size, shuffle=True)\n",
    "\n",
    "# # Now the dataloader is a list of batches.\n",
    "\n",
    "# print(\"Dataset loaded into dataloader\")"
   ]
  },
  {
   "cell_type": "code",
   "execution_count": 4,
   "metadata": {},
   "outputs": [],
   "source": [
    "# import numpy as np\n",
    "\n",
    "# print(dataloader)\n",
    "\n",
    "# # run forward pass of the model called model_fire in the dataloader\n",
    "# for batch in dataloader:\n",
    "#     segment, segments_stems, feature_1, feature_2, feature_3, feature_4 = batch\n",
    "#     print(\"segment shape:        \",   segment.shape)  \n",
    "#     print(\"segments_stems shape: \", segments_stems.shape)\n",
    "#     print(\"feature_1 shape:      \", feature_1.shape)  \n",
    "#     print(\"feature_2 shape:      \", feature_2.shape)\n",
    "#     print(\"feature_3 shape:      \", feature_3.shape)\n",
    "#     print(\"feature_4 shape:      \", feature_4.shape)\n",
    "\n",
    "#     print(\" \")"
   ]
  }
 ],
 "metadata": {
  "kernelspec": {
   "display_name": "env_ddsp_textures",
   "language": "python",
   "name": "python3"
  },
  "language_info": {
   "codemirror_mode": {
    "name": "ipython",
    "version": 3
   },
   "file_extension": ".py",
   "mimetype": "text/x-python",
   "name": "python",
   "nbconvert_exporter": "python",
   "pygments_lexer": "ipython3",
   "version": "3.12.3"
  }
 },
 "nbformat": 4,
 "nbformat_minor": 2
}
