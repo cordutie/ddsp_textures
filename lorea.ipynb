{
 "cells": [
  {
   "cell_type": "code",
   "execution_count": 9,
   "metadata": {},
   "outputs": [],
   "source": [
    "import pickle\n",
    "\n",
    "# import dataset_test_16.pkl\n",
    "with open('dataset_fire_energy24_freqavg.pkl', 'rb') as f:\n",
    "    dataset = pickle.load(f)\n"
   ]
  },
  {
   "cell_type": "code",
   "execution_count": 10,
   "metadata": {},
   "outputs": [],
   "source": [
    "import torch\n",
    "import os\n",
    "import sys\n",
    "\n",
    "# Add the parent directory to the Python path\n",
    "parent_dir = os.path.abspath('..')\n",
    "if parent_dir not in sys.path:\n",
    "    sys.path.append(parent_dir)\n",
    "\n",
    "from ddsp_textures.auxiliar.features import *"
   ]
  },
  {
   "cell_type": "code",
   "execution_count": 11,
   "metadata": {},
   "outputs": [],
   "source": [
    "frame_size = dataset[0][0].shape[0]\n",
    "sampling_rate = 44100\n",
    "# N_filter_bank = 24\n",
    "\n",
    "from ddsp_textures.auxiliar.filterbanks import *\n",
    "\n",
    "# erb_bank    = fb.EqualRectangularBandwidth(frame_size,     sampling_rate, N_filter_bank, 20,     sampling_rate // 2)\n",
    "\n",
    "new_dataset = []\n",
    "for i in range(len(dataset)):\n",
    "    new_element = []\n",
    "    signal, energy_bands, spectral_centroid = dataset[i]\n",
    "    rate = features_rate(signal, sampling_rate, 0)\n",
    "    new_element.append(signal)\n",
    "    new_element.append(energy_bands)\n",
    "    new_element.append(rate)\n",
    "    new_dataset.append(new_element)\n",
    "\n",
    "# save the new dataset\n",
    "with open('dataset_fire_energy24_rate.pkl', 'wb') as f:\n",
    "    pickle.dump(new_dataset, f)\n",
    "\n",
    "new_dataset = []\n",
    "for i in range(len(dataset)):\n",
    "    new_element = []\n",
    "    signal, energy_bands, spectral_centroid = dataset[i]\n",
    "    rate = features_rate(signal, sampling_rate, 0)\n",
    "    new_element.append(signal)\n",
    "    new_element.append(rate)\n",
    "    new_element.append(energy_bands)\n",
    "    new_dataset.append(new_element)\n",
    "\n",
    "# save the new dataset\n",
    "with open('dataset_fire_rate_energy24.pkl', 'wb') as f:\n",
    "    pickle.dump(new_dataset, f)"
   ]
  },
  {
   "cell_type": "code",
   "execution_count": 14,
   "metadata": {},
   "outputs": [
    {
     "name": "stdout",
     "output_type": "stream",
     "text": [
      "540\n",
      "3\n",
      "torch.Size([32768])\n",
      "torch.Size([])\n",
      "torch.Size([24])\n"
     ]
    }
   ],
   "source": [
    "# import dataset_test_16.pkl\n",
    "with open('dataset_fire_rate_energy24.pkl', 'rb') as f:\n",
    "    lorea_dataset = pickle.load(f)\n",
    "\n",
    "print(len(lorea_dataset))\n",
    "print(len(lorea_dataset[0]))\n",
    "print(lorea_dataset[0][0].shape)\n",
    "print(lorea_dataset[0][1].shape)\n",
    "print(lorea_dataset[0][2].shape)\n"
   ]
  }
 ],
 "metadata": {
  "kernelspec": {
   "display_name": "env_ddsp_textures",
   "language": "python",
   "name": "python3"
  },
  "language_info": {
   "codemirror_mode": {
    "name": "ipython",
    "version": 3
   },
   "file_extension": ".py",
   "mimetype": "text/x-python",
   "name": "python",
   "nbconvert_exporter": "python",
   "pygments_lexer": "ipython3",
   "version": "3.12.3"
  }
 },
 "nbformat": 4,
 "nbformat_minor": 2
}
